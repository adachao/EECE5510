{
  "nbformat": 4,
  "nbformat_minor": 0,
  "metadata": {
    "colab": {
      "name": "intro-to-python.ipynb",
      "provenance": [],
      "include_colab_link": true
    },
    "kernelspec": {
      "name": "python3",
      "display_name": "Python 3"
    },
    "language_info": {
      "name": "python"
    }
  },
  "cells": [
    {
      "cell_type": "markdown",
      "metadata": {
        "id": "view-in-github",
        "colab_type": "text"
      },
      "source": [
        "<a href=\"https://colab.research.google.com/github/adachao/EECE5510/blob/master/intro_to_python.ipynb\" target=\"_parent\"><img src=\"https://colab.research.google.com/assets/colab-badge.svg\" alt=\"Open In Colab\"/></a>"
      ]
    },
    {
      "cell_type": "code",
      "metadata": {
        "id": "T0FxW4wOVntt",
        "colab": {
          "base_uri": "https://localhost:8080/"
        },
        "outputId": "85ec2eeb-c2f2-4f45-ae21-10a5ca3232fe"
      },
      "source": [
        "a=1\n",
        "type(a)"
      ],
      "execution_count": null,
      "outputs": [
        {
          "output_type": "execute_result",
          "data": {
            "text/plain": [
              "int"
            ]
          },
          "metadata": {},
          "execution_count": 1
        }
      ]
    },
    {
      "cell_type": "code",
      "metadata": {
        "colab": {
          "base_uri": "https://localhost:8080/"
        },
        "id": "w8kIDaSH1NAw",
        "outputId": "d87ab6f8-e76d-484b-f37f-a6ded65b8a73"
      },
      "source": [
        "a = 1.0\n",
        "type(a)"
      ],
      "execution_count": null,
      "outputs": [
        {
          "output_type": "execute_result",
          "data": {
            "text/plain": [
              "float"
            ]
          },
          "metadata": {},
          "execution_count": 2
        }
      ]
    },
    {
      "cell_type": "code",
      "metadata": {
        "colab": {
          "base_uri": "https://localhost:8080/"
        },
        "id": "zqOI49IZ1f8z",
        "outputId": "028cf818-0757-4a6c-f5d8-55ec54b5ee58"
      },
      "source": [
        "for i in range(10):\n",
        "  print(i)"
      ],
      "execution_count": null,
      "outputs": [
        {
          "output_type": "stream",
          "name": "stdout",
          "text": [
            "0\n",
            "1\n",
            "2\n",
            "3\n",
            "4\n",
            "5\n",
            "6\n",
            "7\n",
            "8\n",
            "9\n"
          ]
        }
      ]
    },
    {
      "cell_type": "code",
      "metadata": {
        "colab": {
          "base_uri": "https://localhost:8080/"
        },
        "id": "WwvVegD818B1",
        "outputId": "90d8a117-a980-47f1-ae4e-d24d686869fe"
      },
      "source": [
        "i = 0\n",
        "while (i < 10):\n",
        "   print(i) \n",
        "   i += 1 "
      ],
      "execution_count": null,
      "outputs": [
        {
          "output_type": "stream",
          "name": "stdout",
          "text": [
            "0\n",
            "1\n",
            "2\n",
            "3\n",
            "4\n",
            "5\n",
            "6\n",
            "7\n",
            "8\n",
            "9\n"
          ]
        }
      ]
    },
    {
      "cell_type": "code",
      "metadata": {
        "colab": {
          "base_uri": "https://localhost:8080/"
        },
        "id": "naXvdWIe2qHF",
        "outputId": "c0a3dc1b-82ee-45a9-e89f-dabd28b5dc50"
      },
      "source": [
        "name_list = ['Henry', 'Reza', 'Mary']\n",
        "print(name_list)"
      ],
      "execution_count": null,
      "outputs": [
        {
          "output_type": "stream",
          "name": "stdout",
          "text": [
            "['Henry', 'Reza', 'Mary']\n"
          ]
        }
      ]
    },
    {
      "cell_type": "code",
      "metadata": {
        "colab": {
          "base_uri": "https://localhost:8080/"
        },
        "id": "HSmvFIel3BVI",
        "outputId": "ea21367f-5f57-4204-f457-3461eecc1940"
      },
      "source": [
        "numbers_list = [1,2,3]\n",
        "print(numbers_list)"
      ],
      "execution_count": null,
      "outputs": [
        {
          "output_type": "stream",
          "name": "stdout",
          "text": [
            "[1, 2, 3]\n"
          ]
        }
      ]
    },
    {
      "cell_type": "code",
      "metadata": {
        "colab": {
          "base_uri": "https://localhost:8080/"
        },
        "id": "bYvA7UGV3dWa",
        "outputId": "a87d6a6a-1038-4a78-9d0d-6e47ecd60cb7"
      },
      "source": [
        "type(numbers_list)"
      ],
      "execution_count": null,
      "outputs": [
        {
          "output_type": "execute_result",
          "data": {
            "text/plain": [
              "list"
            ]
          },
          "metadata": {},
          "execution_count": 9
        }
      ]
    },
    {
      "cell_type": "code",
      "metadata": {
        "colab": {
          "base_uri": "https://localhost:8080/"
        },
        "id": "IzNcrGCe3xHs",
        "outputId": "c9d078a9-f16d-4e32-fe86-14bf0225f1de"
      },
      "source": [
        "mixed_list = ['Henry', 1, 1.3333]\n",
        "print(mixed_list)"
      ],
      "execution_count": null,
      "outputs": [
        {
          "output_type": "stream",
          "name": "stdout",
          "text": [
            "['Henry', 1, 1.3333]\n"
          ]
        }
      ]
    },
    {
      "cell_type": "code",
      "metadata": {
        "colab": {
          "base_uri": "https://localhost:8080/"
        },
        "id": "ziGQIqhg394v",
        "outputId": "2bd2b03f-0cd2-498a-ca72-310206aad5d3"
      },
      "source": [
        "numbers_list.append(5)\n",
        "print(numbers_list)\n"
      ],
      "execution_count": null,
      "outputs": [
        {
          "output_type": "stream",
          "name": "stdout",
          "text": [
            "['Henry', 2, 3, 5, 5, 5, 5]\n"
          ]
        }
      ]
    },
    {
      "cell_type": "code",
      "metadata": {
        "colab": {
          "base_uri": "https://localhost:8080/"
        },
        "id": "bIzK9ZXV4aiT",
        "outputId": "fda8c141-bd8e-4c8e-a551-5d05b9ce1ef8"
      },
      "source": [
        "numbers_list[0] = 'Henry'\n",
        "print(numbers_list)"
      ],
      "execution_count": null,
      "outputs": [
        {
          "output_type": "stream",
          "name": "stdout",
          "text": [
            "['Henry', 2, 3, 5, 5, 5, 5]\n"
          ]
        }
      ]
    },
    {
      "cell_type": "code",
      "metadata": {
        "colab": {
          "base_uri": "https://localhost:8080/"
        },
        "id": "UzUb6OJ14i79",
        "outputId": "82b6ef2e-dc37-41db-f875-5be464896cf0"
      },
      "source": [
        "print(numbers_list[1])\n"
      ],
      "execution_count": null,
      "outputs": [
        {
          "output_type": "stream",
          "name": "stdout",
          "text": [
            "2\n"
          ]
        }
      ]
    },
    {
      "cell_type": "code",
      "metadata": {
        "colab": {
          "base_uri": "https://localhost:8080/"
        },
        "id": "GGt3eBQp41OR",
        "outputId": "3808e91d-f3a4-468c-a174-00e8aea7f57e"
      },
      "source": [
        "name_dict = {'Henry':220, 'Reza':450, 'Mary':328}\n",
        "print(name_dict)\n",
        "print(name_dict['Mary'])\n",
        "print(\"Henry's extension is \" + str(name_dict['Henry']) )"
      ],
      "execution_count": null,
      "outputs": [
        {
          "output_type": "stream",
          "name": "stdout",
          "text": [
            "{'Henry': 220, 'Reza': 450, 'Mary': 328}\n",
            "328\n",
            "Henry's extension is 220\n"
          ]
        }
      ]
    },
    {
      "cell_type": "code",
      "metadata": {
        "colab": {
          "base_uri": "https://localhost:8080/"
        },
        "id": "KX9pI5l66NNR",
        "outputId": "24bc5e73-237f-4435-981a-309425922b15"
      },
      "source": [
        "numbers_dict = {1 : 'Henry', 2:'Reza', 3:'Mary'}\n",
        "print(numbers_dict[1])"
      ],
      "execution_count": null,
      "outputs": [
        {
          "output_type": "stream",
          "name": "stdout",
          "text": [
            "Henry\n"
          ]
        }
      ]
    },
    {
      "cell_type": "code",
      "metadata": {
        "colab": {
          "base_uri": "https://localhost:8080/"
        },
        "id": "Qe0zvqRe6s3j",
        "outputId": "d0f72e29-d4e6-4888-92a1-f74031a50155"
      },
      "source": [
        "name_tuple = ('Henry', 'Hugh', 'Barbra')\n",
        "print(name_tuple[0:2])"
      ],
      "execution_count": null,
      "outputs": [
        {
          "output_type": "stream",
          "name": "stdout",
          "text": [
            "('Henry', 'Hugh')\n"
          ]
        }
      ]
    },
    {
      "cell_type": "code",
      "metadata": {
        "colab": {
          "base_uri": "https://localhost:8080/"
        },
        "id": "iC0l-jbZ7ic2",
        "outputId": "437fae9d-ead2-427f-94e3-e7470182a994"
      },
      "source": [
        "numbers_tuple = (1, 2, 3)\n",
        "print(numbers_tuple)"
      ],
      "execution_count": null,
      "outputs": [
        {
          "output_type": "stream",
          "name": "stdout",
          "text": [
            "(1, 2, 3)\n"
          ]
        }
      ]
    },
    {
      "cell_type": "code",
      "metadata": {
        "colab": {
          "base_uri": "https://localhost:8080/"
        },
        "id": "VbpOm4vU7vO0",
        "outputId": "773b8f03-fad2-4b4b-e6e3-7f21f6e692a4"
      },
      "source": [
        "name_set = {'Henry', 'Reza', 'Mary', 'Henry'}\n",
        "print(name_set)"
      ],
      "execution_count": null,
      "outputs": [
        {
          "output_type": "stream",
          "name": "stdout",
          "text": [
            "{'Mary', 'Henry', 'Reza'}\n"
          ]
        }
      ]
    },
    {
      "cell_type": "code",
      "metadata": {
        "colab": {
          "base_uri": "https://localhost:8080/"
        },
        "id": "GDTC01Xn8MT3",
        "outputId": "8cefc293-415b-448e-c1ac-dfddb4bbd53d"
      },
      "source": [
        "name_set = name_set.union({'JOhn', 'Susan'})\n",
        "print(name_set)"
      ],
      "execution_count": null,
      "outputs": [
        {
          "output_type": "stream",
          "name": "stdout",
          "text": [
            "{'Mary', 'Henry', 'Reza', 'JOhn', 'Susan'}\n"
          ]
        }
      ]
    },
    {
      "cell_type": "code",
      "metadata": {
        "colab": {
          "base_uri": "https://localhost:8080/",
          "height": 168
        },
        "id": "h5Pvpri-7DB6",
        "outputId": "28ae6c54-9f27-4d67-da2d-123bbf60c96d"
      },
      "source": [
        "name_tuple[0] = John "
      ],
      "execution_count": null,
      "outputs": [
        {
          "output_type": "error",
          "ename": "NameError",
          "evalue": "ignored",
          "traceback": [
            "\u001b[0;31m---------------------------------------------------------------------------\u001b[0m",
            "\u001b[0;31mNameError\u001b[0m                                 Traceback (most recent call last)",
            "\u001b[0;32m<ipython-input-37-e3fd5909f6bc>\u001b[0m in \u001b[0;36m<module>\u001b[0;34m()\u001b[0m\n\u001b[0;32m----> 1\u001b[0;31m \u001b[0mname_tuple\u001b[0m\u001b[0;34m[\u001b[0m\u001b[0;36m0\u001b[0m\u001b[0;34m]\u001b[0m \u001b[0;34m=\u001b[0m \u001b[0mJohn\u001b[0m\u001b[0;34m\u001b[0m\u001b[0;34m\u001b[0m\u001b[0m\n\u001b[0m",
            "\u001b[0;31mNameError\u001b[0m: name 'John' is not defined"
          ]
        }
      ]
    },
    {
      "cell_type": "code",
      "metadata": {
        "id": "IQgmT6ez-PR6",
        "colab": {
          "base_uri": "https://localhost:8080/",
          "height": 134
        },
        "outputId": "c6a0efdb-72f9-40cf-ff48-5c9a84f1a588"
      },
      "source": [
        "fo = open('sample_data/anacombe.json')\n",
        "for i in fo.readlines():\n",
        "print(i)"
      ],
      "execution_count": null,
      "outputs": [
        {
          "output_type": "error",
          "ename": "IndentationError",
          "evalue": "ignored",
          "traceback": [
            "\u001b[0;36m  File \u001b[0;32m\"<ipython-input-40-8f5720e161e9>\"\u001b[0;36m, line \u001b[0;32m3\u001b[0m\n\u001b[0;31m    print(i)\u001b[0m\n\u001b[0m        ^\u001b[0m\n\u001b[0;31mIndentationError\u001b[0m\u001b[0;31m:\u001b[0m expected an indented block\n"
          ]
        }
      ]
    },
    {
      "cell_type": "code",
      "metadata": {
        "id": "4chcXPd189Gv",
        "colab": {
          "base_uri": "https://localhost:8080/"
        },
        "outputId": "a0bad42a-6d20-4570-9c53-2ac7c3c58065"
      },
      "source": [
        "other_name_set = {'John', 'Susan'}\n",
        "all_name_set = name_set.union(other_name_set)\n",
        "print(all_name_set)"
      ],
      "execution_count": null,
      "outputs": [
        {
          "output_type": "stream",
          "name": "stdout",
          "text": [
            "{'Mary', 'Henry', 'Reza', 'John', 'JOhn', 'Susan'}\n"
          ]
        }
      ]
    },
    {
      "cell_type": "code",
      "metadata": {
        "id": "qxzCq75WIMx3",
        "outputId": "434e43ee-75ad-4af4-e6d6-b7e22d57759e",
        "colab": {
          "base_uri": "https://localhost:8080/"
        }
      },
      "source": [
        "a = [[1, 2, 3], [4, 5, 6], [6, 7, 8]] \n",
        "print(a[0][0])"
      ],
      "execution_count": 7,
      "outputs": [
        {
          "output_type": "stream",
          "name": "stdout",
          "text": [
            "1\n"
          ]
        }
      ]
    },
    {
      "cell_type": "code",
      "metadata": {
        "id": "2V8qlA7oVUR-",
        "outputId": "cb24f785-7628-45f4-da9a-218c87460bd5",
        "colab": {
          "base_uri": "https://localhost:8080/",
          "height": 52
        }
      },
      "source": [
        "list = ['Minneapolis','MN','USA']\n",
        "print(list)\n",
        "','. join(list)"
      ],
      "execution_count": 14,
      "outputs": [
        {
          "output_type": "stream",
          "name": "stdout",
          "text": [
            "['Minneapolis', 'MN', 'USA']\n"
          ]
        },
        {
          "output_type": "execute_result",
          "data": {
            "application/vnd.google.colaboratory.intrinsic+json": {
              "type": "string"
            },
            "text/plain": [
              "'Minneapolis,MN,USA'"
            ]
          },
          "metadata": {},
          "execution_count": 14
        }
      ]
    }
  ]
}