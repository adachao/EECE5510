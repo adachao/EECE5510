{
  "nbformat": 4,
  "nbformat_minor": 0,
  "metadata": {
    "colab": {
      "name": "programming-challenge1",
      "provenance": [],
      "include_colab_link": true
    },
    "kernelspec": {
      "name": "python3",
      "display_name": "Python 3"
    },
    "language_info": {
      "name": "python"
    }
  },
  "cells": [
    {
      "cell_type": "markdown",
      "metadata": {
        "id": "view-in-github",
        "colab_type": "text"
      },
      "source": [
        "<a href=\"https://colab.research.google.com/github/adachao/EECE5510/blob/master/programming_challenge1.ipynb\" target=\"_parent\"><img src=\"https://colab.research.google.com/assets/colab-badge.svg\" alt=\"Open In Colab\"/></a>"
      ]
    },
    {
      "cell_type": "markdown",
      "metadata": {
        "id": "NGM_KS2L5qzd"
      },
      "source": [
        "The images 8band_013022223130_Public_img69_noisy.tif and 8band_013022223130_Public_img68_noisy.tif correspond to multispectral satellite observations of an area of interest in Rio de Janeiro. The original images have 8 channels with a total bit depth of 128 bits and a resolution of 102 x 110 pixels. Each channel of the images has been corrupted with a small amount of noise. Write a Python script to:"
      ]
    },
    {
      "cell_type": "code",
      "metadata": {
        "id": "SnSIwfwN5pbE",
        "outputId": "8b38d1bc-17bc-4cf1-b580-c835dd3cb327",
        "colab": {
          "base_uri": "https://localhost:8080/"
        }
      },
      "source": [
        "!wget 'https://github.com/Henry-Medeiros/images/blob/master/8band_013022223130_Public_img68_noisy.tif'\n",
        "!wget 'https://github.com/Henry-Medeiros/images/blob/master/8band_013022223130_Public_img69_noisy.tif'"
      ],
      "execution_count": 6,
      "outputs": [
        {
          "output_type": "stream",
          "name": "stdout",
          "text": [
            "--2021-09-29 19:13:19--  https://github.com/Henry-Medeiros/images/blob/master/8band_013022223130_Public_img68_noisy.tif\n",
            "Resolving github.com (github.com)... 140.82.114.3\n",
            "Connecting to github.com (github.com)|140.82.114.3|:443... connected.\n",
            "HTTP request sent, awaiting response... 200 OK\n",
            "Length: unspecified [text/html]\n",
            "Saving to: ‘8band_013022223130_Public_img68_noisy.tif.1’\n",
            "\n",
            "8band_013022223130_     [ <=>                ] 130.76K   714KB/s    in 0.2s    \n",
            "\n",
            "2021-09-29 19:13:19 (714 KB/s) - ‘8band_013022223130_Public_img68_noisy.tif.1’ saved [133899]\n",
            "\n",
            "--2021-09-29 19:13:20--  https://github.com/Henry-Medeiros/images/blob/master/8band_013022223130_Public_img69_noisy.tif\n",
            "Resolving github.com (github.com)... 140.82.114.3\n",
            "Connecting to github.com (github.com)|140.82.114.3|:443... connected.\n",
            "HTTP request sent, awaiting response... 200 OK\n",
            "Length: unspecified [text/html]\n",
            "Saving to: ‘8band_013022223130_Public_img69_noisy.tif’\n",
            "\n",
            "8band_013022223130_     [ <=>                ] 130.76K   712KB/s    in 0.2s    \n",
            "\n",
            "2021-09-29 19:13:20 (712 KB/s) - ‘8band_013022223130_Public_img69_noisy.tif’ saved [133898]\n",
            "\n"
          ]
        }
      ]
    },
    {
      "cell_type": "markdown",
      "metadata": {
        "id": "z-VK3ZAH5u0j"
      },
      "source": [
        "1. Create a 204 x 220 RGB image with a bit depth of 8 bits using the two images. Channels 4, 2, and 1 in the original image correspond to the R, G, and B components (hint: scikit.image.imread can interpret tif files). Make sure the maximum value in the resulting image is 255."
      ]
    },
    {
      "cell_type": "code",
      "metadata": {
        "id": "VP9BCejP5yoy"
      },
      "source": [
        "import cv2\n",
        "import numpy as np\n",
        "from skimage import io\n",
        "import matplotlib.pyplot as plt\n",
        "\n",
        "img1 = io.imread('8band_013022223130_Public_img69_noisy.tif') \n",
        "img2"
      ],
      "execution_count": null,
      "outputs": []
    },
    {
      "cell_type": "markdown",
      "metadata": {
        "id": "qjRnxDGy5zDS"
      },
      "source": [
        "2. Identify the type of noise corrupting the image and filter each of its channels separately with a suitable filter to remove the noise."
      ]
    }
  ]
}